{
 "cells": [
  {
   "cell_type": "code",
   "execution_count": 1,
   "metadata": {},
   "outputs": [],
   "source": [
    "# load libraries\n",
    "import numpy as np\n",
    "import pandas as pd\n",
    "\n",
    "import sklearn\n",
    "from sklearn.neighbors import NearestNeighbors"
   ]
  },
  {
   "cell_type": "code",
   "execution_count": 3,
   "metadata": {},
   "outputs": [
    {
     "name": "stdout",
     "output_type": "stream",
     "text": [
      "    playerID nameFirst nameLast throws  age  year  stints teamID  LG POS1  \\\n",
      "0   abadfe01  Fernando     Abad      L   29  2014       1    OAK  AL   LP   \n",
      "1  aceveal01   Alfredo   Aceves      R   32  2014       1    NYA  AL   BP   \n",
      "2  achteaj01      A.J.   Achter      R   26  2014       1    MIN  AL   BP   \n",
      "3  adamsau01    Austin    Adams      R   28  2014       1    CLE  AL   AP   \n",
      "4  adamsmi03      Mike    Adams      R   36  2014       1    PHI  NL   BP   \n",
      "\n",
      "    ...      RAVG     FIP  DERA  babipera  STUFF   GURU      ROTO  \\\n",
      "0   ...     1.73    3.32   3.19     3.61      86  268.0   $14.01    \n",
      "1   ...     6.52    6.36   5.89     5.37       9    3.0    $1.34    \n",
      "2   ...     5.73    5.47   5.30     5.71       0   16.0    $1.17    \n",
      "3   ...     9.00    4.34   4.24     7.87       9    1.0     $-      \n",
      "4   ...     3.86    2.93   2.83     5.62     154   67.0    $3.96    \n",
      "\n",
      "   baseball_prospectus_id  mlbam_id   n2013  \n",
      "0           ABAD19851217A    472551   769.0  \n",
      "1         ACEVES19821208A    469686  1321.0  \n",
      "2         ACHTER19880827A    592091   264.0  \n",
      "3          ADAMS19860819A    542866    52.0  \n",
      "4          ADAMS19780729A    430606  1290.0  \n",
      "\n",
      "[5 rows x 50 columns]\n"
     ]
    }
   ],
   "source": [
    "# load batting data\n",
    "pitching = pd.read_csv('mlb2014-pitching.csv')\n",
    "pitching.columns = ['playerID', 'nameFirst', 'nameLast', 'throws', 'age', 'year', 'stints', 'teamID', 'LG', 'POS1', \n",
    "                   'W', 'L', 'CG', 'Sh', 'GP', 'GS', 'SV', 'GF', 'IPOuts', 'IP', 'ERA', 'HA', 'ER', 'HRA', 'BBA', \n",
    "                   'SOA', 'IBBA', 'WP', 'HPBA', 'BK', 'BFP', 'RA', 'CMD', 'DOM', 'CTL', 'HR9', 'babip', 'WHIP', \n",
    "                   'WRIP', 'HRBIB', 'RAVG', 'FIP', 'DERA', 'babipera', 'STUFF', 'GURU', 'ROTO', \n",
    "                    'baseball_prospectus_id', 'mlbam_id', 'n2013'\n",
    "]\n",
    "print(pitching.head())"
   ]
  },
  {
   "cell_type": "code",
   "execution_count": 14,
   "metadata": {},
   "outputs": [
    {
     "name": "stdout",
     "output_type": "stream",
     "text": [
      "[[ 4  0 34]\n",
      " [ 2  0 23]\n",
      " [ 0  0 14]\n",
      " [ 0  0  9]\n",
      " [ 1  0 16]]\n"
     ]
    }
   ],
   "source": [
    "# these are the hitting stats you want\n",
    "#   [W, L, ERA]\n",
    "t = [12, 6, 300]\n",
    "\n",
    "# matrix of values for those features\n",
    "#X = pitching.ix[:,(11, 12, 21)].values\n",
    "X = pitching.iloc[:,[11, 12, 21]].values\n",
    "print(X[0:5])"
   ]
  },
  {
   "cell_type": "code",
   "execution_count": 8,
   "metadata": {},
   "outputs": [
    {
     "name": "stdout",
     "output_type": "stream",
     "text": [
      "Neighbors\n",
      "[[500  76 578 643 184 405 299 130 351 256]]\n"
     ]
    }
   ],
   "source": [
    "# find the nearest neighbors for the whole set\n",
    "print('Neighbors')\n",
    "nbrs = NearestNeighbors(n_neighbors=10).fit(X)\n",
    "distances, indices = nbrs.kneighbors([t])\n",
    "\n",
    "# get just the indices of the nearest neighbors\n",
    "print(indices)"
   ]
  },
  {
   "cell_type": "code",
   "execution_count": 10,
   "metadata": {},
   "outputs": [
    {
     "name": "stdout",
     "output_type": "stream",
     "text": [
      "Recommendations\n",
      "      playerID nameFirst   nameLast throws  age  year  stints teamID  LG POS1  \\\n",
      "500  priceda01     David      Price      L   29  2014       2    DET  AL   SP   \n",
      "76   buehrma01      Mark    Buehrle      L   36  2014       1    TOR  AL   SP   \n",
      "578  shielja02     James    Shields      R   33  2014       1    KCA  AL   SP   \n",
      "643  verlaju01    Justin  Verlander      R   32  2014       1    DET  AL   SP   \n",
      "184  eovalna01    Nathan    Eovaldi      R   25  2014       1    MIA  NL   SP   \n",
      "405  mccarbr01   Brandon   McCarthy      R   31  2014       2    NYA  AL   SP   \n",
      "299  hugheph01    Philip     Hughes      R   29  2014       1    MIN  AL   SP   \n",
      "130  colonba01   Bartolo      Colon      R   42  2014       1    NYN  NL   SP   \n",
      "351  leakemi01      Mike      Leake      R   27  2014       1    CIN  NL   SP   \n",
      "256  guthrje01    Jeremy    Guthrie      R   36  2014       1    KCA  AL   SP   \n",
      "\n",
      "      ...      RAVG     FIP  DERA  babipera  STUFF   GURU      ROTO  \\\n",
      "500   ...     3.62    2.85   2.85     4.34     182  147.0   $51.18    \n",
      "76    ...     3.70    3.73   3.82     4.45      15   94.0   $25.60    \n",
      "578   ...     3.77    3.66   3.62     4.14      55  114.0   $38.83    \n",
      "643   ...     4.98    3.81   3.78     4.48      37   55.0   $23.93    \n",
      "184   ...     4.82    3.44   3.40     4.55      42   62.0   $19.52    \n",
      "405   ...     4.50    3.62   3.48     4.60      78   69.0   $27.50    \n",
      "299   ...     3.78    2.72   2.74     4.59     123  118.0   $39.79    \n",
      "130   ...     4.31    3.64   3.55     4.34      48   68.0   $30.84    \n",
      "351   ...     3.91    3.95   3.86     4.17      40   80.0   $30.54    \n",
      "256   ...     4.44    4.38   4.34     4.12      10   57.0   $24.99    \n",
      "\n",
      "     baseball_prospectus_id  mlbam_id   n2013  \n",
      "500          PRICE19850826A    456034   162.0  \n",
      "76         BUEHRLE19790323A    279824  5289.0  \n",
      "578        SHIELDS19811220A    448306    85.0  \n",
      "643      VERLANDER19830220A    434378  1332.0  \n",
      "184        EOVALDI19900213A    543135  1309.0  \n",
      "405       MCCARTHY19830707A    435221    78.0  \n",
      "299         HUGHES19860624A    461833  4163.0  \n",
      "130          COLON19730524A    112526   292.0  \n",
      "351          LEAKE19871112A    502190  4031.0  \n",
      "256        GUTHRIE19790408A    425386  1176.0  \n",
      "\n",
      "[10 rows x 50 columns]\n"
     ]
    }
   ],
   "source": [
    "# see what the recommendations are\n",
    "print(\"Recommendations\")\n",
    "for i in indices:\n",
    "    print(pitching.iloc[i])"
   ]
  },
  {
   "cell_type": "code",
   "execution_count": null,
   "metadata": {},
   "outputs": [],
   "source": []
  }
 ],
 "metadata": {
  "kernelspec": {
   "display_name": "Python 3",
   "language": "python",
   "name": "python3"
  },
  "language_info": {
   "codemirror_mode": {
    "name": "ipython",
    "version": 3
   },
   "file_extension": ".py",
   "mimetype": "text/x-python",
   "name": "python",
   "nbconvert_exporter": "python",
   "pygments_lexer": "ipython3",
   "version": "3.6.4"
  }
 },
 "nbformat": 4,
 "nbformat_minor": 2
}
