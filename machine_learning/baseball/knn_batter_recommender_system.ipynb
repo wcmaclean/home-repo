{
 "cells": [
  {
   "cell_type": "code",
   "execution_count": 1,
   "metadata": {},
   "outputs": [],
   "source": [
    "# load libraries\n",
    "import numpy as np\n",
    "import pandas as pd\n",
    "\n",
    "import sklearn\n",
    "from sklearn.neighbors import NearestNeighbors"
   ]
  },
  {
   "cell_type": "code",
   "execution_count": 2,
   "metadata": {},
   "outputs": [
    {
     "name": "stdout",
     "output_type": "stream",
     "text": [
      "    playerID  nameFirst nameLast bats throws   age  year  stints teamID  lg  \\\n",
      "0  abreubo01      Bobby    Abreu    L      R  40.0  2014       1    NYN  NL   \n",
      "1  abreujo02       Jose    Abreu    R      R  27.0  2014       1    CHA  AL   \n",
      "2  abreuto01       Tony    Abreu    B      R  29.0  2014       1    SFN  NL   \n",
      "3  ackledu01     Dustin   Ackley    L      L  26.0  2014       1    SEA  AL   \n",
      "4  adamecr01  Cristhian   Adames    S      R  22.0  2014       1    COL  NL   \n",
      "\n",
      "   ...     g2  pos3  g3  pos4  g4  pos5  g5  baseball_prospectus_id  mlbam_id  \\\n",
      "0  ...    NaN   NaN NaN   NaN NaN   NaN NaN          ABREU19740311A  110029.0   \n",
      "1  ...    NaN   NaN NaN   NaN NaN   NaN NaN          ABREU20140129A  547989.0   \n",
      "2  ...    1.0   NaN NaN   NaN NaN   NaN NaN          ABREU19841113A  473234.0   \n",
      "3  ...    NaN   NaN NaN   NaN NaN   NaN NaN         ACKLEY19880226A  554429.0   \n",
      "4  ...    2.0   NaN NaN   NaN NaN   NaN NaN         ADAMES19910726A  542436.0   \n",
      "\n",
      "   n2013  \n",
      "0    NaN  \n",
      "1    NaN  \n",
      "2  530.0  \n",
      "3  437.0  \n",
      "4    NaN  \n",
      "\n",
      "[5 rows x 48 columns]\n"
     ]
    }
   ],
   "source": [
    "# load batting data\n",
    "batting = pd.read_csv('mlb2014-batting.csv')\n",
    "batting.columns = ['playerID', 'nameFirst', 'nameLast', \n",
    "                   'bats', 'throws', 'age', 'year', \n",
    "                   'stints', 'teamID', 'lg', 'G', 'tap', \n",
    "                   'AB', 'R', 'H', 'db', 'tr', 'HR', \n",
    "                   'RBI', 'SB', 'CS', 'BB', 'SO', 'IBB', \n",
    "                   'hbp', 'SH', 'SF', 'GIDP', 'avg', 'obp', \n",
    "                   'slg', 'woba', 'PRO', 'GURU', 'ROTO', \n",
    "                   'pos1', 'g1', 'pos2', 'g2', 'pos3', \n",
    "                   'g3', 'pos4', 'g4', 'pos5', 'g5', \n",
    "                   'baseball_prospectus_id', 'mlbam_id', \n",
    "                   'n2013']\n",
    "print(batting.head())"
   ]
  },
  {
   "cell_type": "code",
   "execution_count": 3,
   "metadata": {},
   "outputs": [
    {
     "name": "stdout",
     "output_type": "stream",
     "text": [
      "[400, 300, 25]\n",
      "[[ 12   0  14]\n",
      " [ 80   0 107]\n",
      " [  0   0   0]\n",
      " [ 64   3  65]\n",
      " [  1   0   0]]\n"
     ]
    },
    {
     "name": "stderr",
     "output_type": "stream",
     "text": [
      "C:\\ProgramData\\Anaconda3\\lib\\site-packages\\ipykernel_launcher.py:8: DeprecationWarning: \n",
      ".ix is deprecated. Please use\n",
      ".loc for label based indexing or\n",
      ".iloc for positional indexing\n",
      "\n",
      "See the documentation here:\n",
      "http://pandas.pydata.org/pandas-docs/stable/indexing.html#ix-indexer-is-deprecated\n",
      "  \n"
     ]
    }
   ],
   "source": [
    "# these are the hitting stats you want\n",
    "#   [AB, AVG, HR]\n",
    "t = [400, 300, 25]\n",
    "print(t)\n",
    "\n",
    "# matrix of values for those features\n",
    "#X = batting.ix[:,(13, 25, 18)].values\n",
    "X = batting.ix[:,[13, 25, 18]].values\n",
    "print(X[0:5])"
   ]
  },
  {
   "cell_type": "code",
   "execution_count": 4,
   "metadata": {},
   "outputs": [
    {
     "name": "stdout",
     "output_type": "stream",
     "text": [
      "Neighbors\n",
      "[[162 487 597 440  93]]\n"
     ]
    }
   ],
   "source": [
    "# find the nearest neighbors for the whole set\n",
    "print('Neighbors')\n",
    "nbrs = NearestNeighbors(n_neighbors=5).fit(X)\n",
    "distances, indices = nbrs.kneighbors([t])\n",
    "\n",
    "# get just the indices of the nearest neighbors\n",
    "print(indices)"
   ]
  },
  {
   "cell_type": "code",
   "execution_count": 5,
   "metadata": {},
   "outputs": [
    {
     "name": "stdout",
     "output_type": "stream",
     "text": [
      "Recommendations\n",
      "      playerID nameFirst   nameLast bats throws   age  year  stints teamID  \\\n",
      "162  doziebr01     Brian     Dozier    R      R  27.0  2014       1    MIN   \n",
      "487  rendoan01   Anthony     Rendon    R      R  24.0  2014       1    WAS   \n",
      "597  troutmi01      Mike      Trout    R      R  22.0  2014       1    LAA   \n",
      "440  pencehu01    Hunter      Pence    R      R  31.0  2014       1    SFN   \n",
      "93   carpema01      Matt  Carpenter    L      L  28.0  2014       1    STL   \n",
      "\n",
      "     lg   ...      g2  pos3  g3  pos4  g4  pos5  g5  baseball_prospectus_id  \\\n",
      "162  AL   ...     NaN   NaN NaN   NaN NaN   NaN NaN         DOZIER19870515A   \n",
      "487  NL   ...    28.0   NaN NaN   NaN NaN   NaN NaN         RENDON19900606A   \n",
      "597  AL   ...     NaN   NaN NaN   NaN NaN   NaN NaN          TROUT19910807A   \n",
      "440  NL   ...     NaN   NaN NaN   NaN NaN   NaN NaN          PENCE19830413A   \n",
      "93   NL   ...     2.0   NaN NaN   NaN NaN   NaN NaN      CARPENTER19851126A   \n",
      "\n",
      "     mlbam_id   n2013  \n",
      "162  572821.0   514.0  \n",
      "487  543685.0  1483.0  \n",
      "597  545361.0   569.0  \n",
      "440  452254.0  1553.0  \n",
      "93   572761.0  1464.0  \n",
      "\n",
      "[5 rows x 48 columns]\n"
     ]
    }
   ],
   "source": [
    "# see what the recommendations are\n",
    "print(\"Recommendations\")\n",
    "for i in indices:\n",
    "    print(batting.iloc[i])"
   ]
  },
  {
   "cell_type": "code",
   "execution_count": null,
   "metadata": {},
   "outputs": [],
   "source": []
  },
  {
   "cell_type": "code",
   "execution_count": null,
   "metadata": {},
   "outputs": [],
   "source": []
  }
 ],
 "metadata": {
  "kernelspec": {
   "display_name": "Python 3",
   "language": "python",
   "name": "python3"
  },
  "language_info": {
   "codemirror_mode": {
    "name": "ipython",
    "version": 3
   },
   "file_extension": ".py",
   "mimetype": "text/x-python",
   "name": "python",
   "nbconvert_exporter": "python",
   "pygments_lexer": "ipython3",
   "version": "3.6.4"
  }
 },
 "nbformat": 4,
 "nbformat_minor": 2
}
